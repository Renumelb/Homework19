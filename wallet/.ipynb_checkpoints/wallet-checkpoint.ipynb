{
 "cells": [
  {
   "cell_type": "code",
   "execution_count": 31,
   "id": "5a6117a5-2404-46e1-8df9-865c011d95fb",
   "metadata": {},
   "outputs": [],
   "source": [
    "# Import dependencies\n",
    "import subprocess\n",
    "import json\n",
    "from dotenv import load_dotenv\n",
    "\n",
    "# Load/ set environment variables and mnemonic key\n",
    "import os\n",
    "load_dotenv()\n",
    "mnemonickey=os.getenv(\"MNEMONICKEY\")\n",
    "#print(mnemonickey) only for testing\n",
    "\n",
    "# Import constants.py and necessary functions from bit and web3\n",
    "from constants import *\n",
    "from bit import wif_to_key\n",
    "from web3 import Web3\n",
    "from bit import *\n",
    "from web3.middleware import geth_poa_middleware\n",
    "from eth_account import Account\n",
    "from pathlib import Path\n",
    "from getpass import getpass\n",
    "from bit.network import NetworkAPI"
   ]
  },
  {
   "cell_type": "code",
   "execution_count": 33,
   "id": "fb6db3ab-9bc9-4f0e-abfc-c39ac172f877",
   "metadata": {},
   "outputs": [],
   "source": [
    "# local host provider set up\n",
    "w3 = Web3(Web3.HTTPProvider(\"http://127.0.0.1:8545\")) \n",
    "w3.middleware_onion.inject(geth_poa_middleware, layer=0)"
   ]
  },
  {
   "cell_type": "code",
   "execution_count": 34,
   "id": "9c649b18-e7b0-426d-accb-2f517a02a884",
   "metadata": {},
   "outputs": [
    {
     "name": "stdout",
     "output_type": "stream",
     "text": [
      "0x37a9a47c4cfe509c44bd9b66ee8cabc940a737965ab76f32810dcee932c5cb57\n",
      "cQ56Nxc9kfrXpuQCiLRLELvJrwPF7MiesK5uS6wfXAiMMLJEUTrE\n"
     ]
    }
   ],
   "source": [
    "# private key set up from dot.env\n",
    "eth_private_key = os.getenv(\"ETH_PRIVATEKEY\")\n",
    "btctest_private_key = os.getenv(\"BTCTEST_PRIVATEKEY\")\n",
    "print (eth_private_key)\n",
    "print(btctest_private_key)"
   ]
  },
  {
   "cell_type": "code",
   "execution_count": 35,
   "id": "ec8ffff6-8936-42f2-bcef-b2f8ce8ad7b3",
   "metadata": {},
   "outputs": [],
   "source": [
    "# Create a function called `derive_wallets' using the mnemonic key\n",
    "def derive_wallets(mnemonickey, coin, numderive):\n",
    "    command = 'php derive -g --mnemonic=\"mnemonickey\" --cols=path,address,privkey,pubkey --format=json'\n",
    "    p = subprocess.Popen(command, stdout=subprocess.PIPE, shell=True)\n",
    "    output, err = p.communicate()\n",
    "    print(output)\n",
    "    p_status = p.wait()\n",
    "    keys = json.loads(output)\n",
    "    return keys  "
   ]
  },
  {
   "cell_type": "code",
   "execution_count": 36,
   "id": "199ca531-fb87-4bdd-aee5-3ed5229d25eb",
   "metadata": {},
   "outputs": [
    {
     "data": {
      "text/plain": [
       "{'BTCTEST', 'ETH'}"
      ]
     },
     "execution_count": 36,
     "metadata": {},
     "output_type": "execute_result"
    }
   ],
   "source": [
    "# Create a dictionary object to store output from `derive_wallets`\n",
    "coins = {\"ETH\", \"BTCTEST\"}\n",
    "coins"
   ]
  },
  {
   "cell_type": "code",
   "execution_count": 37,
   "id": "857db5c5-1736-4eeb-a2f1-15ce7de78e79",
   "metadata": {},
   "outputs": [
    {
     "name": "stdout",
     "output_type": "stream",
     "text": [
      "b'\\n[{\"path\":\"m\\\\/44\\'\\\\/0\\'\\\\/0\\'\\\\/0\\\\/0\",\"address\":\"1Ggd4GcuhX9WwRqMyqeBcp6QFADL1WV8Sg\",\"privkey\":\"KxYs6HLj53iewky3SCoMu4u7if6UU5C3NHgnbt7TUYypuYCSHovg\",\"pubkey\":\"0246cd326f458df8a851d0a2a960292eb39f0eaba248f408bd8b293515f7a1678c\"},{\"path\":\"m\\\\/44\\'\\\\/0\\'\\\\/0\\'\\\\/0\\\\/1\",\"address\":\"1Apb6pzprJEcTJKg278p1g4JR96Vzes88w\",\"privkey\":\"L2tXmvpMSrfLaReJeMYy9VqPuWV9AXPJvP6Zsgvd3wzEo4AbXK77\",\"pubkey\":\"037e32e51725a0d512439e6fda4d7897b8332e4a3d0540577c3f667ee8d9904573\"},{\"path\":\"m\\\\/44\\'\\\\/0\\'\\\\/0\\'\\\\/0\\\\/2\",\"address\":\"1EuB958BZ18Mji1g2bStP9XGE4ACVifuBQ\",\"privkey\":\"L3gUmoym22aCayjcibzeb3MbJqGJ875Rh8LW1eQUi9UmUGZmqw1P\",\"pubkey\":\"020e7c7b704163ce325aef095500b51028aedae6a49a6df16079894e8b27be142b\"},{\"path\":\"m\\\\/44\\'\\\\/0\\'\\\\/0\\'\\\\/0\\\\/3\",\"address\":\"1NKg9atALBH9AQrzMPQiCnQVajAJZpjbzB\",\"privkey\":\"L4HyHj3mvGSSjH2TXZaN8PFRqhGzFPMTNo7JhFx5A8diNUS2LzrQ\",\"pubkey\":\"029c1b5c9ebc2432abd3a23dcc52baa9c634e0646fd1105cc3d8cd054e9fa47e81\"},{\"path\":\"m\\\\/44\\'\\\\/0\\'\\\\/0\\'\\\\/0\\\\/4\",\"address\":\"1HBSH3QD4A5TyGCn5aT1mGvukH2Jbz2nKt\",\"privkey\":\"L3R8rgcGT6xHYom3izBxmDwr6JUaS96y37kpe8NyJ8u5CGZCDFwQ\",\"pubkey\":\"035c196974329b9d3026a91e1a5a8aa1a4c23b92c72cfdd51965f1eb52dce8f034\"},{\"path\":\"m\\\\/44\\'\\\\/0\\'\\\\/0\\'\\\\/0\\\\/5\",\"address\":\"17nQgWaz7nnLgZyeY6MhjGo5aQdyVt2H7N\",\"privkey\":\"KzB5p8teQeKBVa5q5Bt6kQJGhnPvCEpArJvGXM7UaCvu2zgD1HNr\",\"pubkey\":\"033ed045ff5d25c9d09b7c8c9e236cf803ad3bdedf21676c580b96ff430e8212f5\"},{\"path\":\"m\\\\/44\\'\\\\/0\\'\\\\/0\\'\\\\/0\\\\/6\",\"address\":\"1F3a1X5h4XWKDynrtSxCLcuZA4WW7dqSdf\",\"privkey\":\"KzS1NSPLArtfGgQxwq1pXDPjkWsTdgKu5XewhxDkyotN39rPerq5\",\"pubkey\":\"03de2b28a6126fac9dbaeddd329c9663e33616695e61287ec5eb9fbead7ca318e5\"},{\"path\":\"m\\\\/44\\'\\\\/0\\'\\\\/0\\'\\\\/0\\\\/7\",\"address\":\"1ekmCprkgSJCGbnhg8D2htNVZkWQ3tZK3\",\"privkey\":\"L3zNh6YKBhEWPYJA4ViFek2XnF77KueB5LDfEYCSSD4dvNpx4X3a\",\"pubkey\":\"034fa2f0a764ef0374e08dfc37358adcf120f9af16cffdac14fce64f7af2c8e035\"},{\"path\":\"m\\\\/44\\'\\\\/0\\'\\\\/0\\'\\\\/0\\\\/8\",\"address\":\"1JXhcPKwZEywvbHRXYELn4dpQNg1E5eVUc\",\"privkey\":\"KzQLTaguMruZ7htzpjTk8eJ2NQ1rtQtAxNa7dFxKvRiTKXPdspmJ\",\"pubkey\":\"0227e3c1fdd1289389e9001e39bda565748938c7165d33aba690ec08ee61f8f0fc\"},{\"path\":\"m\\\\/44\\'\\\\/0\\'\\\\/0\\'\\\\/0\\\\/9\",\"address\":\"17Kvp19rJVvWQqzsnYPApYS6wpEweZUe2i\",\"privkey\":\"L33zS5sYj3g57mg6mX7sF5MRTVSsdMPeMjtWKPRRqAcgmhrSSn8Z\",\"pubkey\":\"0330178f31a6c1ce3cb0e8757d3861a35cb721a059cb6784725c9df14e03575d20\"}]'\n",
      "b'\\n[{\"path\":\"m\\\\/44\\'\\\\/0\\'\\\\/0\\'\\\\/0\\\\/0\",\"address\":\"1Ggd4GcuhX9WwRqMyqeBcp6QFADL1WV8Sg\",\"privkey\":\"KxYs6HLj53iewky3SCoMu4u7if6UU5C3NHgnbt7TUYypuYCSHovg\",\"pubkey\":\"0246cd326f458df8a851d0a2a960292eb39f0eaba248f408bd8b293515f7a1678c\"},{\"path\":\"m\\\\/44\\'\\\\/0\\'\\\\/0\\'\\\\/0\\\\/1\",\"address\":\"1Apb6pzprJEcTJKg278p1g4JR96Vzes88w\",\"privkey\":\"L2tXmvpMSrfLaReJeMYy9VqPuWV9AXPJvP6Zsgvd3wzEo4AbXK77\",\"pubkey\":\"037e32e51725a0d512439e6fda4d7897b8332e4a3d0540577c3f667ee8d9904573\"},{\"path\":\"m\\\\/44\\'\\\\/0\\'\\\\/0\\'\\\\/0\\\\/2\",\"address\":\"1EuB958BZ18Mji1g2bStP9XGE4ACVifuBQ\",\"privkey\":\"L3gUmoym22aCayjcibzeb3MbJqGJ875Rh8LW1eQUi9UmUGZmqw1P\",\"pubkey\":\"020e7c7b704163ce325aef095500b51028aedae6a49a6df16079894e8b27be142b\"},{\"path\":\"m\\\\/44\\'\\\\/0\\'\\\\/0\\'\\\\/0\\\\/3\",\"address\":\"1NKg9atALBH9AQrzMPQiCnQVajAJZpjbzB\",\"privkey\":\"L4HyHj3mvGSSjH2TXZaN8PFRqhGzFPMTNo7JhFx5A8diNUS2LzrQ\",\"pubkey\":\"029c1b5c9ebc2432abd3a23dcc52baa9c634e0646fd1105cc3d8cd054e9fa47e81\"},{\"path\":\"m\\\\/44\\'\\\\/0\\'\\\\/0\\'\\\\/0\\\\/4\",\"address\":\"1HBSH3QD4A5TyGCn5aT1mGvukH2Jbz2nKt\",\"privkey\":\"L3R8rgcGT6xHYom3izBxmDwr6JUaS96y37kpe8NyJ8u5CGZCDFwQ\",\"pubkey\":\"035c196974329b9d3026a91e1a5a8aa1a4c23b92c72cfdd51965f1eb52dce8f034\"},{\"path\":\"m\\\\/44\\'\\\\/0\\'\\\\/0\\'\\\\/0\\\\/5\",\"address\":\"17nQgWaz7nnLgZyeY6MhjGo5aQdyVt2H7N\",\"privkey\":\"KzB5p8teQeKBVa5q5Bt6kQJGhnPvCEpArJvGXM7UaCvu2zgD1HNr\",\"pubkey\":\"033ed045ff5d25c9d09b7c8c9e236cf803ad3bdedf21676c580b96ff430e8212f5\"},{\"path\":\"m\\\\/44\\'\\\\/0\\'\\\\/0\\'\\\\/0\\\\/6\",\"address\":\"1F3a1X5h4XWKDynrtSxCLcuZA4WW7dqSdf\",\"privkey\":\"KzS1NSPLArtfGgQxwq1pXDPjkWsTdgKu5XewhxDkyotN39rPerq5\",\"pubkey\":\"03de2b28a6126fac9dbaeddd329c9663e33616695e61287ec5eb9fbead7ca318e5\"},{\"path\":\"m\\\\/44\\'\\\\/0\\'\\\\/0\\'\\\\/0\\\\/7\",\"address\":\"1ekmCprkgSJCGbnhg8D2htNVZkWQ3tZK3\",\"privkey\":\"L3zNh6YKBhEWPYJA4ViFek2XnF77KueB5LDfEYCSSD4dvNpx4X3a\",\"pubkey\":\"034fa2f0a764ef0374e08dfc37358adcf120f9af16cffdac14fce64f7af2c8e035\"},{\"path\":\"m\\\\/44\\'\\\\/0\\'\\\\/0\\'\\\\/0\\\\/8\",\"address\":\"1JXhcPKwZEywvbHRXYELn4dpQNg1E5eVUc\",\"privkey\":\"KzQLTaguMruZ7htzpjTk8eJ2NQ1rtQtAxNa7dFxKvRiTKXPdspmJ\",\"pubkey\":\"0227e3c1fdd1289389e9001e39bda565748938c7165d33aba690ec08ee61f8f0fc\"},{\"path\":\"m\\\\/44\\'\\\\/0\\'\\\\/0\\'\\\\/0\\\\/9\",\"address\":\"17Kvp19rJVvWQqzsnYPApYS6wpEweZUe2i\",\"privkey\":\"L33zS5sYj3g57mg6mX7sF5MRTVSsdMPeMjtWKPRRqAcgmhrSSn8Z\",\"pubkey\":\"0330178f31a6c1ce3cb0e8757d3861a35cb721a059cb6784725c9df14e03575d20\"}]'\n"
     ]
    }
   ],
   "source": [
    "# Creating the dictionary\n",
    "coin_keys = {}\n",
    "for coin in coins:\n",
    "    coin_keys[coin]= derive_wallets(mnemonickey, coin, 2)   "
   ]
  },
  {
   "cell_type": "code",
   "execution_count": 38,
   "id": "c4ee5e15-3c20-4c94-ae2f-b5025ba26bc6",
   "metadata": {},
   "outputs": [],
   "source": [
    "# function to get private key\n",
    "def priv_key_to_account(coin, private_key):\n",
    "    if coin == ETH:\n",
    "        return Account.privateKeyToAccount(private_key)\n",
    "    if coin == BTCTEST:\n",
    "        return PrivateKeyTestnet(private_key)    "
   ]
  },
  {
   "cell_type": "code",
   "execution_count": 39,
   "id": "af58132a-ff16-4165-8ea4-7a8e01ca2ace",
   "metadata": {},
   "outputs": [
    {
     "name": "stdout",
     "output_type": "stream",
     "text": [
      "<eth_account.signers.local.LocalAccount object at 0x00000272CF98B708>\n"
     ]
    }
   ],
   "source": [
    "# get private key for ETH\n",
    "ETH_key = priv_key_to_account(ETH,eth_private_key)\n",
    "print(ETH_key)"
   ]
  },
  {
   "cell_type": "code",
   "execution_count": 40,
   "id": "74bb8c2f-3b7e-407f-961a-035034d4461d",
   "metadata": {},
   "outputs": [
    {
     "name": "stdout",
     "output_type": "stream",
     "text": [
      "<PrivateKeyTestnet: mqE7qKYrpthCwKuQhgRjC6BejVzic69MEg>\n"
     ]
    }
   ],
   "source": [
    "# get private key for BTCTEST\n",
    "BTCTEST_key = priv_key_to_account(BTCTEST,btctest_private_key)\n",
    "print(BTCTEST_key)"
   ]
  },
  {
   "cell_type": "code",
   "execution_count": 41,
   "id": "b7b15260-e4b3-4815-9cd7-e16515b3f793",
   "metadata": {},
   "outputs": [],
   "source": [
    "# Create a function called `create_tx` that creates an unsigned transaction appropriate metadata.\n",
    "def create_raw_tx(coin, account, recipient, amount):\n",
    "    if coin == ETH:\n",
    "        gasEstimate = w3.eth.estimateGas(\n",
    "        {\"from\": account.address, \"to\": recipient, \"value\": amount}\n",
    "        )\n",
    "        return {\n",
    "        \"from\": account.address,\n",
    "        \"to\": recipient,\n",
    "        \"value\": amount,\n",
    "        \"gasPrice\": w3.eth.gasPrice,\n",
    "        \"gas\": gasEstimate,\n",
    "        \"nonce\": w3.eth.getTransactionCount(account.address),\n",
    "    }\n",
    "    if coin == BTCTEST:\n",
    "        return PrivateKeyTestnet.prepare_transaction(account.address, [(recipient, amount, BTC)])"
   ]
  },
  {
   "cell_type": "code",
   "execution_count": 42,
   "id": "0212fd57-7d7f-40c0-ad0e-1bc84fd1f6d0",
   "metadata": {},
   "outputs": [],
   "source": [
    "# Create a function called `send_tx` that calls `create_tx`, signs and sends the transaction.\n",
    "def send_tx(coin, account, recipient, amount):\n",
    "    tx = create_raw_tx(coin, account, recipient, amount)\n",
    "    signed_tx = account.sign_transaction(tx)\n",
    "    if coin == ETH:\n",
    "        result = w3.eth.sendRawTransaction(signed_tx.rawTransaction)\n",
    "        return result.hex()\n",
    "    elif coin == BTCTEST:\n",
    "        return NetworkAPI.broadcast_tx_testnet(signed_tx)"
   ]
  },
  {
   "cell_type": "code",
   "execution_count": 43,
   "id": "07813903-4b7f-45c3-bfc4-acfbf3aa3ee1",
   "metadata": {},
   "outputs": [
    {
     "name": "stdout",
     "output_type": "stream",
     "text": [
      "0x08742B7fd52FfF993c7220a5a074AC4cD240790b\n"
     ]
    }
   ],
   "source": [
    "# print metamask account \n",
    "print(ETH_key.address)"
   ]
  },
  {
   "cell_type": "code",
   "execution_count": 44,
   "id": "82c143c4-d4d7-4e5f-beb9-47fd02b323e8",
   "metadata": {},
   "outputs": [
    {
     "data": {
      "text/plain": [
       "99994311959999994120"
      ]
     },
     "execution_count": 44,
     "metadata": {},
     "output_type": "execute_result"
    }
   ],
   "source": [
    "#print metamask balance before transaction\n",
    "w3.eth.get_balance(ETH_key.address)"
   ]
  },
  {
   "cell_type": "code",
   "execution_count": 45,
   "id": "7d8e48ad-6440-4654-9799-f603cfc8be9c",
   "metadata": {},
   "outputs": [
    {
     "data": {
      "text/plain": [
       "'0x120477454c55cb98953957df5093a11f8bd472cf1ab230355bb44ccf6d8a7d66'"
      ]
     },
     "execution_count": 45,
     "metadata": {},
     "output_type": "execute_result"
    }
   ],
   "source": [
    "#send ETH transaction from metmask account one to metamask account 2- refer Ganache screen shot\n",
    "send_tx(ETH, ETH_key, \"0xF5755e05aE47B8560414e9fd6fFE6Aa2bd02c36e\", 1960)"
   ]
  },
  {
   "cell_type": "code",
   "execution_count": 46,
   "id": "e5e57410-971e-419f-b7a6-4b309b1a42ee",
   "metadata": {},
   "outputs": [
    {
     "data": {
      "text/plain": [
       "99993891959999992160"
      ]
     },
     "execution_count": 46,
     "metadata": {},
     "output_type": "execute_result"
    }
   ],
   "source": [
    "#print metamask balance in wei after transaction- metamask account balance screen shot\n",
    "w3.eth.get_balance(ETH_key.address)"
   ]
  },
  {
   "cell_type": "code",
   "execution_count": 52,
   "id": "43fb7e70-8e8a-422e-9c19-d1527bac96b0",
   "metadata": {},
   "outputs": [],
   "source": [
    "#send BTCTEST transaction to another account (Chirath) and check in Blockcypher- max 8 decimals\n",
    "send_tx(BTCTEST, BTCTEST_key, \"mq5nwjbW5GqLMeEnvpUaBLkwi7SHKMe6WU\", .00000015)"
   ]
  },
  {
   "cell_type": "code",
   "execution_count": 53,
   "id": "84bcd03e-084b-4880-a98e-e1cd4172dfa7",
   "metadata": {},
   "outputs": [
    {
     "data": {
      "text/plain": [
       "['453ba2baf2f510c9bdd53164c252387d3cd4204b11017ae5921a00afaf4b9ede',\n",
       " '7c79a1c6d7e0a3682205d53af6e08308eabf31a7cdf0da1691e4c82704e0bb03',\n",
       " 'b9cb1f05ed4e5bfa85890a535e071e482f9351faf219a69e73d1e9437ca16351',\n",
       " '94d924c3c148cffe077c8d0a05151a505ac5e02241e79c75c9a6a5e06cd5ae93',\n",
       " '506cada442bb5eb180cb79e69fe989f421a9e309331df6a105ee64592e062cf2',\n",
       " '7540cf139f92d601cf9edd887a1c5be72ec681d93aa6bf22861cfab5177070d3',\n",
       " '73e30130564b8be7328b0d35fc48c21a3cbb2b27cfa82fc4e1ad014d2d6d39b0',\n",
       " 'a3b412affa2ab4ed5789c35a6835a7f1925efcc2e64e6ad785799409cafe7a93']"
      ]
     },
     "execution_count": 53,
     "metadata": {},
     "output_type": "execute_result"
    }
   ],
   "source": [
    "#get transaction details\n",
    "BTCTEST_key.get_transactions()"
   ]
  },
  {
   "cell_type": "code",
   "execution_count": 54,
   "id": "0123159c-2b65-44d8-84e1-3f0908415051",
   "metadata": {},
   "outputs": [
    {
     "data": {
      "text/plain": [
       "'0'"
      ]
     },
     "execution_count": 54,
     "metadata": {},
     "output_type": "execute_result"
    }
   ],
   "source": [
    "#balance after successful transaction- refer screen shot from Blockcypher\n",
    "BTCTEST_key.balance_as('satoshi')"
   ]
  },
  {
   "cell_type": "code",
   "execution_count": 199,
   "id": "2e937089-e27d-4364-855c-3e005630af2c",
   "metadata": {},
   "outputs": [],
   "source": [
    "#The End"
   ]
  }
 ],
 "metadata": {
  "kernelspec": {
   "display_name": "Python 3",
   "language": "python",
   "name": "python3"
  },
  "language_info": {
   "codemirror_mode": {
    "name": "ipython",
    "version": 3
   },
   "file_extension": ".py",
   "mimetype": "text/x-python",
   "name": "python",
   "nbconvert_exporter": "python",
   "pygments_lexer": "ipython3",
   "version": "3.7.10"
  }
 },
 "nbformat": 4,
 "nbformat_minor": 5
}
