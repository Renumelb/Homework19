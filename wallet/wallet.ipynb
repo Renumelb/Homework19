{
 "cells": [
  {
   "cell_type": "code",
   "execution_count": 60,
   "id": "5a6117a5-2404-46e1-8df9-865c011d95fb",
   "metadata": {},
   "outputs": [],
   "source": [
    "# Import dependencies\n",
    "import subprocess\n",
    "import json\n",
    "from dotenv import load_dotenv\n",
    "\n",
    "# Load/ set environment variables and mnemonic key\n",
    "import os\n",
    "load_dotenv()\n",
    "mnemonickey=os.getenv(\"MNEMONICKEY\")\n",
    "#print(mnemonickey) only for testing\n",
    "\n",
    "# Import constants.py and necessary functions from bit and web3\n",
    "from constants import *\n",
    "from bit import wif_to_key\n",
    "from web3 import Web3\n",
    "from bit import *\n",
    "from web3.middleware import geth_poa_middleware\n",
    "from eth_account import Account\n",
    "from pathlib import Path\n",
    "from getpass import getpass\n",
    "from bit.network import NetworkAPI"
   ]
  },
  {
   "cell_type": "code",
   "execution_count": 61,
   "id": "fb6db3ab-9bc9-4f0e-abfc-c39ac172f877",
   "metadata": {},
   "outputs": [],
   "source": [
    "# local host provider set up\n",
    "w3 = Web3(Web3.HTTPProvider(\"http://127.0.0.1:8545\")) \n",
    "w3.middleware_onion.inject(geth_poa_middleware, layer=0)"
   ]
  },
  {
   "cell_type": "code",
   "execution_count": 62,
   "id": "ec8ffff6-8936-42f2-bcef-b2f8ce8ad7b3",
   "metadata": {},
   "outputs": [],
   "source": [
    "# Create a function called `derive_wallets' using the mnemonic key\n",
    "def derive_wallets(mnemonickey, coin, numderive):\n",
    "    #command = f'C:/Users/User/Documents/Renu/Homework19/wallet/hd-wallet-derive/php derive -g --mnemonic=\"mnemonickey\"  --coin={coin} --numderive={numderive} --cols=path,address,privkey,pubkey --format=json'\n",
    "    command = f'php ./hd-wallet-derive/hd-wallet-derive.php -g --mnemonic=\"{mnemonickey}\" --numderive=\"{numderive}\" --coin=\"{coin}\" --format=json'\n",
    "    p = subprocess.Popen(command, stdout=subprocess.PIPE, shell=True)\n",
    "    output, err = p.communicate()\n",
    "    #print(output)\n",
    "    p_status = p.wait()\n",
    "    keys = json.loads(output)\n",
    "    return keys  "
   ]
  },
  {
   "cell_type": "code",
   "execution_count": 66,
   "id": "199ca531-fb87-4bdd-aee5-3ed5229d25eb",
   "metadata": {},
   "outputs": [
    {
     "data": {
      "text/plain": [
       "{'btc-test', 'eth'}"
      ]
     },
     "execution_count": 66,
     "metadata": {},
     "output_type": "execute_result"
    }
   ],
   "source": [
    "# Create a dictionary object to store output from `derive_wallets`\n",
    "coins = {\"eth\", \"btc-test\"}\n",
    "coins"
   ]
  },
  {
   "cell_type": "code",
   "execution_count": 67,
   "id": "857db5c5-1736-4eeb-a2f1-15ce7de78e79",
   "metadata": {},
   "outputs": [],
   "source": [
    "# Creating the dictionary\n",
    "coin_keys = {}\n",
    "for coin in coins:\n",
    "    coin_keys[coin]= derive_wallets(mnemonickey, coin, 2)    "
   ]
  },
  {
   "cell_type": "code",
   "execution_count": 68,
   "id": "2659ed68-89d2-4385-be58-74e54f77378f",
   "metadata": {},
   "outputs": [
    {
     "name": "stdout",
     "output_type": "stream",
     "text": [
      "{\n",
      "  \"btc-test\": [\n",
      "    {\n",
      "      \"address\": \"mqE7qKYrpthCwKuQhgRjC6BejVzic69MEg\",\n",
      "      \"index\": 0,\n",
      "      \"path\": \"m/44'/1'/0'/0/0\",\n",
      "      \"privkey\": \"cQ56Nxc9kfrXpuQCiLRLELvJrwPF7MiesK5uS6wfXAiMMLJEUTrE\",\n",
      "      \"pubkey\": \"0240cfb30a9ebfde18aa1a588085c51728195d9cd8c69f4744100a60cb863903fa\",\n",
      "      \"pubkeyhash\": \"6a8226392ccb95c3e8960a73b1e913e867016324\",\n",
      "      \"xprv\": \"tprv8kJvZcLqmz7j52PvtUdCg6rbd5niZBPrY84wWTE9y1wYNA88skiZ6JKFKyuJArzNDcHH1xa9NpDauVcwMFjexgK6P249dVAWGfL3QtJCYwb\",\n",
      "      \"xpub\": \"tpubDGzxi2P5vMoPxVRin8Ho5WWiC7JeiWam7RfinyGTPHjwCeNuW9Y9Gnw7W6n2FVpmvtre3pjAWzh1wv1YgfwvHxXT7b4RG6X5vcVZjf1ZFUD\"\n",
      "    },\n",
      "    {\n",
      "      \"address\": \"mv9iLPQ4q2kxzTj2xFuFzzcfdZmN3yCCjA\",\n",
      "      \"index\": 1,\n",
      "      \"path\": \"m/44'/1'/0'/0/1\",\n",
      "      \"privkey\": \"cMytcYT5tvgPK6JNDgrNJ4dLQc4CestV87viphF52PRrG5wsqbVL\",\n",
      "      \"pubkey\": \"025eb3f50260d69899bf4031b5608cd4a96ba286c739ae8b85eb7a1525876ab0e2\",\n",
      "      \"pubkeyhash\": \"a0857f9f4d506bc4cfe12e708303a8e7dade5050\",\n",
      "      \"xprv\": \"tprv8kJvZcLqmz7j93U259KTFXSZA7UxFQgHjVgVM1J566Bs6JJuD2io4usnr6uhYuv6uSuFc5gk2FrMndD4h8C3Yg6ZE6rabARJfkjxR2KPVZa\",\n",
      "      \"xpub\": \"tpubDGzxi2P5vMoQ2WVoxnz3ew6fj8ztQjsCJoHGdXLNWMzFvnZfqRYPFQVf2EV3rUfmBUmbdViNWifVTbFRUYjMVrDT86wEpXMpxkVCV5qwppw\"\n",
      "    }\n",
      "  ],\n",
      "  \"eth\": [\n",
      "    {\n",
      "      \"address\": \"0x08742B7fd52FfF993c7220a5a074AC4cD240790b\",\n",
      "      \"index\": 0,\n",
      "      \"path\": \"m/44'/60'/0'/0/0\",\n",
      "      \"privkey\": \"0x37a9a47c4cfe509c44bd9b66ee8cabc940a737965ab76f32810dcee932c5cb57\",\n",
      "      \"pubkey\": \"02bbffaf591f858b49f6376fd8675c8d2c99e215b1ec8f68932384f4010fe3875d\",\n",
      "      \"pubkeyhash\": \"68d1f2e3ba25c3e943d630a10b1124c459ae33ac\",\n",
      "      \"xprv\": \"xprvA3nLdkky8FhmRVLgn5v5f9YL68SCcXFoGHdWwA3veX5i1qpDexDaFasFNBo26qpt4PFaz5bUA28hjfzni5doT4ejbG785QARfG6SKoNXjEz\",\n",
      "      \"xpub\": \"xpub6Gmh3GHrxdG4dyR9t7T62HV4eAGh1yyedWZ7jYTYCrcgte9NCVXpoPBjDTq4tg2Yn1UYGE7PyPn9XUjRGWq3RarYhdwsLhNKa2Rk2UwYiHS\"\n",
      "    },\n",
      "    {\n",
      "      \"address\": \"0xF5755e05aE47B8560414e9fd6fFE6Aa2bd02c36e\",\n",
      "      \"index\": 1,\n",
      "      \"path\": \"m/44'/60'/0'/0/1\",\n",
      "      \"privkey\": \"0xcf286a34523201067410720cb76d985a234a28d8c4d9ca2e377c3177984b8096\",\n",
      "      \"pubkey\": \"03133680ff1abf8eb2fed2fade030bdb02923c547d2d3e316db44b16776d4aeea0\",\n",
      "      \"pubkeyhash\": \"8f3ef354dcd54946e7b289ef732f30c16d284b63\",\n",
      "      \"xprv\": \"xprvA3nLdkky8FhmUXCYctQTQS6MBgt8U4pDCgRs9p59QYffs9gofPkUdtN3agvsUAi5jbNXbin8cU6E34bWh14DnGrFQR8fAxaWi6CQ2wkykdz\",\n",
      "      \"xpub\": \"xpub6Gmh3GHrxdG4h1H1iuwTma35jiicsXY4ZuMTxCUkxtCejx1xCw4jBggXRxUcHXhM5kJpdidG7FyAtuLEc3XU3hnNRQoB6GCYvJeFCq1Ew2G\"\n",
      "    }\n",
      "  ]\n",
      "}\n"
     ]
    }
   ],
   "source": [
    "#json in readable format- need the private key\n",
    "print(json.dumps(coin_keys, indent=2, sort_keys=True))"
   ]
  },
  {
   "cell_type": "code",
   "execution_count": 69,
   "id": "c4ee5e15-3c20-4c94-ae2f-b5025ba26bc6",
   "metadata": {},
   "outputs": [],
   "source": [
    "# function to get private key\n",
    "def priv_key_to_account(coin, private_key):\n",
    "    if coin == ETH:\n",
    "        return Account.privateKeyToAccount(private_key)\n",
    "    if coin == BTCTEST:\n",
    "        return PrivateKeyTestnet(private_key)    "
   ]
  },
  {
   "cell_type": "code",
   "execution_count": 70,
   "id": "197c8628-3292-460c-b16b-7c08bba529ed",
   "metadata": {},
   "outputs": [
    {
     "name": "stdout",
     "output_type": "stream",
     "text": [
      "0x37a9a47c4cfe509c44bd9b66ee8cabc940a737965ab76f32810dcee932c5cb57\n",
      "cQ56Nxc9kfrXpuQCiLRLELvJrwPF7MiesK5uS6wfXAiMMLJEUTrE\n"
     ]
    }
   ],
   "source": [
    "# get the private keys generated from the derive wallet function - first one\n",
    "eth_private_key = coin_keys[\"eth\"][0]['privkey']\n",
    "btctest_private_key = coin_keys['btc-test'][0]['privkey']\n",
    "print(eth_private_key)\n",
    "print(btctest_private_key)"
   ]
  },
  {
   "cell_type": "code",
   "execution_count": 71,
   "id": "03b19e2d-6610-4de1-abf4-63350ae4e451",
   "metadata": {},
   "outputs": [
    {
     "name": "stdout",
     "output_type": "stream",
     "text": [
      "0x37a9a47c4cfe509c44bd9b66ee8cabc940a737965ab76f32810dcee932c5cb57\n",
      "cQ56Nxc9kfrXpuQCiLRLELvJrwPF7MiesK5uS6wfXAiMMLJEUTrE\n"
     ]
    }
   ],
   "source": [
    "# Added this extra note- Comparison of keys to previous version of this code where the same private keys were obtained from the environment varaible file.\n",
    "eth_private_key = os.getenv(\"ETH_PRIVATEKEY\")\n",
    "btctest_private_key = os.getenv(\"BTCTEST_PRIVATEKEY\")\n",
    "print (eth_private_key)\n",
    "print(btctest_private_key)\n",
    "#both sets of private keys are the same- match!!!"
   ]
  },
  {
   "cell_type": "code",
   "execution_count": 72,
   "id": "af58132a-ff16-4165-8ea4-7a8e01ca2ace",
   "metadata": {},
   "outputs": [
    {
     "name": "stdout",
     "output_type": "stream",
     "text": [
      "<eth_account.signers.local.LocalAccount object at 0x00000285A4E87108>\n"
     ]
    }
   ],
   "source": [
    "# get private key for ETH\n",
    "ETH_key = priv_key_to_account(ETH, eth_private_key)\n",
    "print(ETH_key)"
   ]
  },
  {
   "cell_type": "code",
   "execution_count": 73,
   "id": "74bb8c2f-3b7e-407f-961a-035034d4461d",
   "metadata": {},
   "outputs": [
    {
     "name": "stdout",
     "output_type": "stream",
     "text": [
      "<PrivateKeyTestnet: mqE7qKYrpthCwKuQhgRjC6BejVzic69MEg>\n"
     ]
    }
   ],
   "source": [
    "# get private key for BTCTEST\n",
    "BTCTEST_key = priv_key_to_account(BTCTEST,btctest_private_key)\n",
    "print(BTCTEST_key)"
   ]
  },
  {
   "cell_type": "code",
   "execution_count": 75,
   "id": "b7b15260-e4b3-4815-9cd7-e16515b3f793",
   "metadata": {},
   "outputs": [],
   "source": [
    "# Create a function called `create_tx` that creates an unsigned transaction appropriate metadata.\n",
    "def create_raw_tx(coin, account, recipient, amount):\n",
    "    if coin == ETH:\n",
    "        gasEstimate = w3.eth.estimateGas(\n",
    "        {\"from\": account.address, \"to\": recipient, \"value\": amount}\n",
    "        )\n",
    "        return {\n",
    "        \"from\": account.address,\n",
    "        \"to\": recipient,\n",
    "        \"value\": amount,\n",
    "        \"gasPrice\": w3.eth.gasPrice,\n",
    "        \"gas\": gasEstimate,\n",
    "        \"nonce\": w3.eth.getTransactionCount(account.address),\n",
    "    }\n",
    "    if coin == BTCTEST:\n",
    "        return PrivateKeyTestnet.prepare_transaction(account.address, [(recipient, amount, BTC)])"
   ]
  },
  {
   "cell_type": "code",
   "execution_count": 76,
   "id": "0212fd57-7d7f-40c0-ad0e-1bc84fd1f6d0",
   "metadata": {},
   "outputs": [],
   "source": [
    "# Create a function called `send_tx` that calls `create_tx`, signs and sends the transaction.\n",
    "def send_tx(coin, account, recipient, amount):\n",
    "    tx = create_raw_tx(coin, account, recipient, amount)\n",
    "    signed_tx = account.sign_transaction(tx)\n",
    "    if coin == ETH:\n",
    "        result = w3.eth.sendRawTransaction(signed_tx.rawTransaction)\n",
    "        return result.hex()\n",
    "    elif coin == BTCTEST:\n",
    "        return NetworkAPI.broadcast_tx_testnet(signed_tx)"
   ]
  },
  {
   "cell_type": "code",
   "execution_count": 77,
   "id": "07813903-4b7f-45c3-bfc4-acfbf3aa3ee1",
   "metadata": {},
   "outputs": [
    {
     "name": "stdout",
     "output_type": "stream",
     "text": [
      "0x08742B7fd52FfF993c7220a5a074AC4cD240790b\n"
     ]
    }
   ],
   "source": [
    "# print metamask account \n",
    "print(ETH_key.address)"
   ]
  },
  {
   "cell_type": "code",
   "execution_count": 44,
   "id": "82c143c4-d4d7-4e5f-beb9-47fd02b323e8",
   "metadata": {},
   "outputs": [
    {
     "data": {
      "text/plain": [
       "99994311959999994120"
      ]
     },
     "execution_count": 44,
     "metadata": {},
     "output_type": "execute_result"
    }
   ],
   "source": [
    "#print metamask balance before transaction\n",
    "w3.eth.get_balance(ETH_key.address)"
   ]
  },
  {
   "cell_type": "code",
   "execution_count": 45,
   "id": "7d8e48ad-6440-4654-9799-f603cfc8be9c",
   "metadata": {},
   "outputs": [
    {
     "data": {
      "text/plain": [
       "'0x120477454c55cb98953957df5093a11f8bd472cf1ab230355bb44ccf6d8a7d66'"
      ]
     },
     "execution_count": 45,
     "metadata": {},
     "output_type": "execute_result"
    }
   ],
   "source": [
    "#send ETH transaction from metmask account one to metamask account 2- refer Ganache screen shot\n",
    "send_tx(ETH, ETH_key, \"0xF5755e05aE47B8560414e9fd6fFE6Aa2bd02c36e\", 1960)"
   ]
  },
  {
   "cell_type": "code",
   "execution_count": 46,
   "id": "e5e57410-971e-419f-b7a6-4b309b1a42ee",
   "metadata": {},
   "outputs": [
    {
     "data": {
      "text/plain": [
       "99993891959999992160"
      ]
     },
     "execution_count": 46,
     "metadata": {},
     "output_type": "execute_result"
    }
   ],
   "source": [
    "#print metamask balance in wei after transaction- metamask account balance screen shot\n",
    "w3.eth.get_balance(ETH_key.address)"
   ]
  },
  {
   "cell_type": "code",
   "execution_count": 52,
   "id": "43fb7e70-8e8a-422e-9c19-d1527bac96b0",
   "metadata": {},
   "outputs": [],
   "source": [
    "#send BTCTEST transaction to another account (Chirath) and check in Blockcypher- max 8 decimals\n",
    "send_tx(BTCTEST, BTCTEST_key, \"mq5nwjbW5GqLMeEnvpUaBLkwi7SHKMe6WU\", .00000015)"
   ]
  },
  {
   "cell_type": "code",
   "execution_count": 53,
   "id": "84bcd03e-084b-4880-a98e-e1cd4172dfa7",
   "metadata": {},
   "outputs": [
    {
     "data": {
      "text/plain": [
       "['453ba2baf2f510c9bdd53164c252387d3cd4204b11017ae5921a00afaf4b9ede',\n",
       " '7c79a1c6d7e0a3682205d53af6e08308eabf31a7cdf0da1691e4c82704e0bb03',\n",
       " 'b9cb1f05ed4e5bfa85890a535e071e482f9351faf219a69e73d1e9437ca16351',\n",
       " '94d924c3c148cffe077c8d0a05151a505ac5e02241e79c75c9a6a5e06cd5ae93',\n",
       " '506cada442bb5eb180cb79e69fe989f421a9e309331df6a105ee64592e062cf2',\n",
       " '7540cf139f92d601cf9edd887a1c5be72ec681d93aa6bf22861cfab5177070d3',\n",
       " '73e30130564b8be7328b0d35fc48c21a3cbb2b27cfa82fc4e1ad014d2d6d39b0',\n",
       " 'a3b412affa2ab4ed5789c35a6835a7f1925efcc2e64e6ad785799409cafe7a93']"
      ]
     },
     "execution_count": 53,
     "metadata": {},
     "output_type": "execute_result"
    }
   ],
   "source": [
    "#get transaction details\n",
    "BTCTEST_key.get_transactions()"
   ]
  },
  {
   "cell_type": "code",
   "execution_count": 54,
   "id": "0123159c-2b65-44d8-84e1-3f0908415051",
   "metadata": {},
   "outputs": [
    {
     "data": {
      "text/plain": [
       "'0'"
      ]
     },
     "execution_count": 54,
     "metadata": {},
     "output_type": "execute_result"
    }
   ],
   "source": [
    "#balance after successful transaction- refer screen shot from Blockcypher\n",
    "BTCTEST_key.balance_as('satoshi')"
   ]
  },
  {
   "cell_type": "code",
   "execution_count": 199,
   "id": "2e937089-e27d-4364-855c-3e005630af2c",
   "metadata": {},
   "outputs": [],
   "source": [
    "#The End"
   ]
  }
 ],
 "metadata": {
  "kernelspec": {
   "display_name": "Python 3",
   "language": "python",
   "name": "python3"
  },
  "language_info": {
   "codemirror_mode": {
    "name": "ipython",
    "version": 3
   },
   "file_extension": ".py",
   "mimetype": "text/x-python",
   "name": "python",
   "nbconvert_exporter": "python",
   "pygments_lexer": "ipython3",
   "version": "3.7.10"
  }
 },
 "nbformat": 4,
 "nbformat_minor": 5
}
